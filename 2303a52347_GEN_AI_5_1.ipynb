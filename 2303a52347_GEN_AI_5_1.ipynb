{
  "nbformat": 4,
  "nbformat_minor": 0,
  "metadata": {
    "colab": {
      "provenance": [],
      "authorship_tag": "ABX9TyMplStCfux/qiJ2qerqMsU2",
      "include_colab_link": true
    },
    "kernelspec": {
      "name": "python3",
      "display_name": "Python 3"
    },
    "language_info": {
      "name": "python"
    }
  },
  "cells": [
    {
      "cell_type": "markdown",
      "metadata": {
        "id": "view-in-github",
        "colab_type": "text"
      },
      "source": [
        "<a href=\"https://colab.research.google.com/github/PravalikaMuthoju/GENERATIVE-AI/blob/main/2303a52347_GEN_AI_5_1.ipynb\" target=\"_parent\"><img src=\"https://colab.research.google.com/assets/colab-badge.svg\" alt=\"Open In Colab\"/></a>"
      ]
    },
    {
      "cell_type": "code",
      "source": [
        "import numpy as np\n",
        "\n",
        "x_train = np.array([[0.1, 0.2], [0.2, 0.3], [0.3, 0.4], [0.6, 0.7], [0.7, 0.8], [0.8, 0.9]])\n",
        "y_train = np.array([[0.3432], [0.3490], [0.3548], [0.3720], [0.3776], [0.3832]])\n",
        "\n",
        "x_test = np.array([[0.4, 0.5], [0.5, 0.6]])\n",
        "y_test = np.array([[0.3606], [0.3663]])\n",
        "\n",
        "# Initialize weights and bias randomly\n",
        "weights = np.random.rand(2, 1)\n",
        "bias = np.random.rand(1)\n",
        "\n",
        "learning_rate = 0.1\n",
        "\n",
        "for _ in range(5000):\n",
        "    #  predictions (linear model)\n",
        "    predictions = np.dot(x_train, weights) + bias\n",
        "\n",
        "    #  error\n",
        "    error = y_train - predictions\n",
        "\n",
        "    # Update weights and bias\n",
        "    weights += learning_rate * np.dot(x_train.T, error)\n",
        "    bias += learning_rate * np.sum(error)\n",
        "\n",
        "#  MSE for training data\n",
        "train_predictions = np.dot(x_train, weights) + bias\n",
        "train_mse = np.mean((y_train - train_predictions)**2)\n",
        "\n",
        "#  MSE and MAE for testing data\n",
        "test_predictions = np.dot(x_test, weights) + bias\n",
        "test_mse = np.mean((y_test - test_predictions)**2)\n",
        "test_mae = np.mean(np.abs(y_test - test_predictions))\n",
        "\n",
        "print(\"Training MSE:\", train_mse)\n",
        "print(\"Testing MSE:\", test_mse)\n",
        "print(\"Testing MAE:\", test_mae)\n",
        "\n",
        "x1, x2 = map(float, input(\"Enter x1 and x2 (space-separated): \").split())\n",
        "new_input = np.array([[x1, x2]])\n",
        "prediction = np.dot(new_input, weights) + bias\n",
        "print(\"Predicted Output:\", prediction[0][0])"
      ],
      "metadata": {
        "colab": {
          "base_uri": "https://localhost:8080/"
        },
        "id": "VoMIhxnfwAVS",
        "outputId": "7a049f18-ca96-4614-be3d-fc765c5387fc"
      },
      "execution_count": 6,
      "outputs": [
        {
          "output_type": "stream",
          "name": "stdout",
          "text": [
            "Training MSE: 6.907630522088794e-09\n",
            "Testing MSE: 2.2581651908851848e-08\n",
            "Testing MAE: 0.000150000000000039\n",
            "Enter x1 and x2 (space-separated): 1.2 2.1\n",
            "Predicted Output: 0.5366666226731359\n"
          ]
        }
      ]
    }
  ]
}