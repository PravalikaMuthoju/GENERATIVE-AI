{
  "nbformat": 4,
  "nbformat_minor": 0,
  "metadata": {
    "colab": {
      "provenance": [],
      "authorship_tag": "ABX9TyPkEV3GccZTWibyAhEBniUC",
      "include_colab_link": true
    },
    "kernelspec": {
      "name": "python3",
      "display_name": "Python 3"
    },
    "language_info": {
      "name": "python"
    }
  },
  "cells": [
    {
      "cell_type": "markdown",
      "metadata": {
        "id": "view-in-github",
        "colab_type": "text"
      },
      "source": [
        "<a href=\"https://colab.research.google.com/github/PravalikaMuthoju/GENERATIVE-AI/blob/main/2303A52347_GEN_AI_ASS_4.ipynb\" target=\"_parent\"><img src=\"https://colab.research.google.com/assets/colab-badge.svg\" alt=\"Open In Colab\"/></a>"
      ]
    },
    {
      "cell_type": "markdown",
      "source": [
        "Design a simple ANN architecture with one input and one output layer (no hidden\n",
        "layer). Assume a linear activation function in the output layer.\n",
        "• Write Python code for a backpropagation algorithm with gradient descent optimization to\n",
        "update weights and bias parameters of the ANN model with training data shown in Table\n",
        "1.\n",
        "• Calculate the mean square error with training and testing data shown in Table 2.\n",
        "• Write Python code that reads the input data [x1, x2, and x3] from the user. Predict the\n",
        "output with deployed ANN model\n",
        "\n"
      ],
      "metadata": {
        "id": "vWWSzia2z1SD"
      }
    },
    {
      "cell_type": "code",
      "execution_count": 1,
      "metadata": {
        "colab": {
          "base_uri": "https://localhost:8080/"
        },
        "id": "aoVdMAV6zVbr",
        "outputId": "edd02011-8454-4215-9771-90a1ed5eacbb"
      },
      "outputs": [
        {
          "output_type": "stream",
          "name": "stdout",
          "text": [
            "Test 1 Prediction: 0.44071475334147203\n",
            "Test 2 Prediction: 0.5000957599286809\n",
            "Enter x1, x2, x3: 1 2 1.1\n",
            "Your Prediction: 0.79203559002098\n"
          ]
        }
      ],
      "source": [
        "# Training data\n",
        "train_x = [[0.1, 0.2, 0.3], [0.2, 0.3, 0.4], [0.3, 0.4, 0.5], [0.5, 0.6, 0.7], [0.1, 0.3, 0.5],\n",
        "           [0.2, 0.4, 0.6], [0.3, 0.5, 0.7], [0.4, 0.6, 0.8], [0.5, 0.7, 0.1]]\n",
        "train_y = [0.14, 0.20, 0.26, 0.38, 0.22, 0.28, 0.34, 0.40, 0.22]\n",
        "\n",
        "test_x = [[0.6, 0.7, 0.8], [0.7, 0.8, 0.9]]\n",
        "test_y = [0.44, 0.50]\n",
        "\n",
        "# Initialize\n",
        "weights = [0.1, 0.1, 0.1]\n",
        "bias = 0.0\n",
        "lr = 0.01\n",
        "\n",
        "# Train\n",
        "for _ in range(1000):\n",
        "    for i in range(len(train_x)):\n",
        "        pred = sum(train_x[i][j] * weights[j] for j in range(3)) + bias\n",
        "        error = pred - train_y[i]\n",
        "        for j in range(3):\n",
        "            weights[j] -= lr * error * train_x[i][j]\n",
        "        bias -= lr * error\n",
        "\n",
        "# Test\n",
        "for i in range(len(test_x)):\n",
        "    pred = sum(test_x[i][j] * weights[j] for j in range(3)) + bias\n",
        "    print(f\"Test {i+1} Prediction: {pred}\")\n",
        "\n",
        "# Predict\n",
        "x1, x2, x3 = map(float, input(\"Enter x1, x2, x3: \").split())\n",
        "pred = sum([x1, x2, x3][j] * weights[j] for j in range(3)) + bias\n",
        "print(\"Your Prediction:\", pred)\n"
      ]
    },
    {
      "cell_type": "markdown",
      "source": [
        "Design a simple ANN architecture with one input and one output layer (no hidden\n",
        "layer). Assume a sigmoid activation function shown in the equation 1 in the output layer.\n",
        "f (x) = 1\n",
        "1 + e−x (1)\n",
        "• Write Python code for a backpropagation algorithm with gradient descent optimization to\n",
        "update weights and bias parameters of the ANN model with training data shown in Table\n",
        "\n",
        "• Calculate the mean square error with training and testing data shown in Table 4.\n",
        "• Write Python code that reads the input data [x1, x2, and x3] from the user.\n"
      ],
      "metadata": {
        "id": "JAqVqoC00FdE"
      }
    },
    {
      "cell_type": "code",
      "source": [
        "import math\n",
        "\n",
        "# Sigmoid function\n",
        "def sigmoid(x):\n",
        "    return 1 / (1 + math.exp(-x))\n",
        "\n",
        "# Training data\n",
        "train_x = [[0.1, 0.2, 0.3], [0.2, 0.3, 0.4], [0.3, 0.4, 0.5], [0.5, 0.6, 0.7], [0.1, 0.3, 0.5],\n",
        "           [0.2, 0.4, 0.6], [0.3, 0.5, 0.7], [0.4, 0.6, 0.8], [0.5, 0.7, 0.1]]\n",
        "train_y = [0.5349, 0.5498, 0.5646, 0.5939, 0.5548, 0.5695, 0.5842, 0.5987, 0.5548]\n",
        "\n",
        "test_x = [[0.6, 0.7, 0.8], [0.7, 0.8, 0.9]]\n",
        "test_y = [0.6083, 0.6225]\n",
        "\n",
        "# Initialize\n",
        "weights = [0.1, 0.1, 0.1]\n",
        "bias = 0.0\n",
        "lr = 0.01\n",
        "\n",
        "# Train\n",
        "for _ in range(1000):\n",
        "    for i in range(len(train_x)):\n",
        "        z = sum(train_x[i][j] * weights[j] for j in range(3)) + bias\n",
        "        pred = sigmoid(z)\n",
        "        error = pred - train_y[i]\n",
        "        for j in range(3):\n",
        "            weights[j] -= lr * error * train_x[i][j]\n",
        "        bias -= lr * error\n",
        "\n",
        "# Test\n",
        "for i in range(len(test_x)):\n",
        "    z = sum(test_x[i][j] * weights[j] for j in range(3)) + bias\n",
        "    pred = sigmoid(z)\n",
        "    print(f\"Test {i+1} Prediction: {pred}\")\n",
        "\n",
        "# Predict\n",
        "x1, x2, x3 = map(float, input(\"Enter x1, x2, x3: \").split())\n",
        "z = sum([x1, x2, x3][j] * weights[j] for j in range(3)) + bias\n",
        "pred = sigmoid(z)\n",
        "print(\"Your Prediction:\", pred)\n"
      ],
      "metadata": {
        "colab": {
          "base_uri": "https://localhost:8080/"
        },
        "id": "i023SmfwziHn",
        "outputId": "3e963e3b-2f2d-46e1-945d-5d191ec43749"
      },
      "execution_count": 2,
      "outputs": [
        {
          "output_type": "stream",
          "name": "stdout",
          "text": [
            "Test 1 Prediction: 0.603206203474566\n",
            "Test 2 Prediction: 0.6154334562628674\n",
            "Enter x1, x2, x3: 1 2 3\n",
            "Your Prediction: 0.7637152720942969\n"
          ]
        }
      ]
    }
  ]
}