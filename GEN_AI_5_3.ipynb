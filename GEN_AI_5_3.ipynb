{
  "nbformat": 4,
  "nbformat_minor": 0,
  "metadata": {
    "colab": {
      "provenance": [],
      "authorship_tag": "ABX9TyM5We4saQvYtm6RHHD/Rf87",
      "include_colab_link": true
    },
    "kernelspec": {
      "name": "python3",
      "display_name": "Python 3"
    },
    "language_info": {
      "name": "python"
    }
  },
  "cells": [
    {
      "cell_type": "markdown",
      "metadata": {
        "id": "view-in-github",
        "colab_type": "text"
      },
      "source": [
        "<a href=\"https://colab.research.google.com/github/PravalikaMuthoju/GENERATIVE-AI/blob/main/GEN_AI_5_3.ipynb\" target=\"_parent\"><img src=\"https://colab.research.google.com/assets/colab-badge.svg\" alt=\"Open In Colab\"/></a>"
      ]
    },
    {
      "cell_type": "code",
      "execution_count": 1,
      "metadata": {
        "colab": {
          "base_uri": "https://localhost:8080/"
        },
        "id": "UDUiIIQ1Fx0D",
        "outputId": "587ece26-e4cc-4426-8237-a05d3a434eff"
      },
      "outputs": [
        {
          "output_type": "stream",
          "name": "stdout",
          "text": [
            "Training MSE: 4.691416252833406e-06\n",
            "Testing MSE: 1.3786842834281493e-05\n",
            "Enter x1 and x2: 1 5\n",
            "Predicted Output: 0.41394150648855343\n"
          ]
        }
      ],
      "source": [
        "import numpy as np\n",
        "\n",
        "def sigmoid(x):\n",
        "    return 1 / (1 + np.exp(-x))\n",
        "\n",
        "def train_ann(X, y, lr=0.1, epochs=1000):\n",
        "    np.random.seed(1)\n",
        "    W1, b1 = np.random.rand(2, 2), np.random.rand(2)\n",
        "    W2, b2 = np.random.rand(2, 1), np.random.rand(1)\n",
        "\n",
        "    for _ in range(epochs):\n",
        "        hidden = sigmoid(X @ W1 + b1)\n",
        "        output = hidden @ W2 + b2\n",
        "\n",
        "        d_output = y - output\n",
        "        d_hidden = (d_output @ W2.T) * hidden * (1 - hidden)\n",
        "\n",
        "        W2 += hidden.T @ d_output * lr\n",
        "        b2 += d_output.sum() * lr\n",
        "        W1 += X.T @ d_hidden * lr\n",
        "        b1 += d_hidden.sum(axis=0) * lr\n",
        "\n",
        "    return W1, b1, W2, b2\n",
        "\n",
        "def predict(X, W1, b1, W2, b2):\n",
        "    return sigmoid(X @ W1 + b1) @ W2 + b2\n",
        "\n",
        "def mse(y_true, y_pred):\n",
        "    return np.mean((y_true - y_pred) ** 2)\n",
        "\n",
        "X_train = np.array([[1, 2], [2, 3], [5, 6], [6, 7], [7, 8], [8, 9]])\n",
        "y_train = np.array([[0.4140], [0.4611], [0.5501], [0.5656], [0.5765], [0.5840]])\n",
        "W1, b1, W2, b2 = train_ann(X_train, y_train)\n",
        "\n",
        "X_test = np.array([[3, 4], [4, 5]])\n",
        "y_test = np.array([[0.4992], [0.5285]])\n",
        "\n",
        "print(\"Training MSE:\", mse(y_train, predict(X_train, W1, b1, W2, b2)))\n",
        "print(\"Testing MSE:\", mse(y_test, predict(X_test, W1, b1, W2, b2)))\n",
        "\n",
        "x1, x2 = map(float, input(\"Enter x1 and x2: \").split())\n",
        "print(\"Predicted Output:\", predict(np.array([[x1, x2]]), W1, b1, W2, b2)[0][0])\n"
      ]
    }
  ]
}