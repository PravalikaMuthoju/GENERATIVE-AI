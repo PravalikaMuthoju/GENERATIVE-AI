{
  "nbformat": 4,
  "nbformat_minor": 0,
  "metadata": {
    "colab": {
      "provenance": [],
      "authorship_tag": "ABX9TyNbxTaX4HUKf4nw8/3xz+0j",
      "include_colab_link": true
    },
    "kernelspec": {
      "name": "python3",
      "display_name": "Python 3"
    },
    "language_info": {
      "name": "python"
    }
  },
  "cells": [
    {
      "cell_type": "markdown",
      "metadata": {
        "id": "view-in-github",
        "colab_type": "text"
      },
      "source": [
        "<a href=\"https://colab.research.google.com/github/PravalikaMuthoju/GENERATIVE-AI/blob/main/GEN_AI__5_2.ipynb\" target=\"_parent\"><img src=\"https://colab.research.google.com/assets/colab-badge.svg\" alt=\"Open In Colab\"/></a>"
      ]
    },
    {
      "cell_type": "code",
      "execution_count": 2,
      "metadata": {
        "colab": {
          "base_uri": "https://localhost:8080/"
        },
        "id": "Dxsh0y-ED5jx",
        "outputId": "b59485eb-4a71-4617-c416-bfc1b4662497"
      },
      "outputs": [
        {
          "output_type": "stream",
          "name": "stdout",
          "text": [
            "Training MSE: 5.7926463576226235e-08\n",
            "Testing MSE: 1.532432935141411e-07\n",
            "Enter x1 and x2: 1 2\n",
            "Predicted Output: 0.4010937058793138\n"
          ]
        },
        {
          "output_type": "execute_result",
          "data": {
            "text/plain": [
              "2"
            ]
          },
          "metadata": {},
          "execution_count": 2
        }
      ],
      "source": [
        "import numpy as np\n",
        "\n",
        "def sigmoid(x):\n",
        "    return 1 / (1 + np.exp(-x))\n",
        "\n",
        "def sigmoid_derivative(x):\n",
        "    return x * (1 - x)\n",
        "\n",
        "def train_ann(X, y, hidden_neurons=2, lr=0.1, epochs=1000):\n",
        "    np.random.seed(1)\n",
        "    input_neurons = X.shape[1]\n",
        "    output_neurons = 1\n",
        "\n",
        "    W1 = np.random.rand(input_neurons, hidden_neurons)\n",
        "    b1 = np.random.rand(hidden_neurons)\n",
        "    W2 = np.random.rand(hidden_neurons, output_neurons)\n",
        "    b2 = np.random.rand(output_neurons)\n",
        "\n",
        "    for _ in range(epochs):\n",
        "        # Forward pass\n",
        "        hidden_input = np.dot(X, W1) + b1\n",
        "        hidden_output = sigmoid(hidden_input)\n",
        "        final_input = np.dot(hidden_output, W2) + b2\n",
        "        final_output = final_input  # Linear activation\n",
        "\n",
        "        # Compute error\n",
        "        error = y - final_output\n",
        "\n",
        "        # Backpropagation\n",
        "        d_output = error\n",
        "        d_hidden = d_output.dot(W2.T) * sigmoid_derivative(hidden_output)\n",
        "\n",
        "        # Update weights and biases\n",
        "        W2 += hidden_output.T.dot(d_output) * lr\n",
        "        b2 += np.sum(d_output) * lr\n",
        "        W1 += X.T.dot(d_hidden) * lr\n",
        "        b1 += np.sum(d_hidden, axis=0) * lr\n",
        "\n",
        "    return W1, b1, W2, b2\n",
        "\n",
        "def predict(X, W1, b1, W2, b2):\n",
        "    hidden_input = np.dot(X, W1) + b1\n",
        "    hidden_output = sigmoid(hidden_input)\n",
        "    final_input = np.dot(hidden_output, W2) + b2\n",
        "    return final_input  # Linear activation\n",
        "\n",
        "def mean_squared_error(y_true, y_pred):\n",
        "    return np.mean((y_true - y_pred) ** 2)\n",
        "\n",
        "# Training Data\n",
        "X_train = np.array([[0.2, 0.1], [0.3, 0.2], [0.4, 0.3], [0.7, 0.6], [0.8, 0.7], [0.9, 0.8]])\n",
        "y_train = np.array([[0.3441], [0.3500], [0.3558], [0.3729], [0.3785], [0.3841]])\n",
        "\n",
        "# Train the model\n",
        "W1, b1, W2, b2 = train_ann(X_train, y_train)\n",
        "\n",
        "# Test Data\n",
        "X_test = np.array([[0.5, 0.4], [0.6, 0.5]])\n",
        "y_test = np.array([[0.3615], [0.3672]])\n",
        "y_pred_train = predict(X_train, W1, b1, W2, b2)\n",
        "y_pred_test = predict(X_test, W1, b1, W2, b2)\n",
        "\n",
        "# Calculate MSE\n",
        "print(\"Training MSE:\", mean_squared_error(y_train, y_pred_train))\n",
        "print(\"Testing MSE:\", mean_squared_error(y_test, y_pred_test))\n",
        "\n",
        "# User Input Prediction\n",
        "x1, x2 = map(float, input(\"Enter x1 and x2: \").split())\n",
        "user_input = np.array([[x1, x2]])\n",
        "print(\"Predicted Output:\", predict(user_input, W1, b1, W2, b2)[0][0])\n",
        "2"
      ]
    }
  ]
}