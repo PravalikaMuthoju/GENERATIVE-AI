{
  "nbformat": 4,
  "nbformat_minor": 0,
  "metadata": {
    "colab": {
      "provenance": [],
      "authorship_tag": "ABX9TyO66DIRvXEXawjnlTyVH6do",
      "include_colab_link": true
    },
    "kernelspec": {
      "name": "python3",
      "display_name": "Python 3"
    },
    "language_info": {
      "name": "python"
    }
  },
  "cells": [
    {
      "cell_type": "markdown",
      "metadata": {
        "id": "view-in-github",
        "colab_type": "text"
      },
      "source": [
        "<a href=\"https://colab.research.google.com/github/PravalikaMuthoju/GENERATIVE-AI/blob/main/2303A52347_GEN_AI_ASS1.ipynb\" target=\"_parent\"><img src=\"https://colab.research.google.com/assets/colab-badge.svg\" alt=\"Open In Colab\"/></a>"
      ]
    },
    {
      "cell_type": "markdown",
      "source": [
        "# 1.Write Python code from scratch to find error metrics of deep learning model. Actualvalues and deep learning model predicted values are shown in Table 1.   compare the results with the outcomes of libraries"
      ],
      "metadata": {
        "id": "_DK9jzrloM9R"
      }
    },
    {
      "cell_type": "code",
      "source": [
        "from sklearn.linear_model import LinearRegression\n",
        "from sklearn.metrics import mean_absolute_error, mean_squared_error\n",
        "import numpy as np\n",
        "\n",
        "\n",
        "X = [[1], [2], [3], [4], [5]]\n",
        "Y_actual = [20, 30, 40, 50, 60]\n",
        "Y_pred = [20.5, 30.3, 40.2, 50.6, 60.7]\n",
        "\n",
        "# Train Linear Regression\n",
        "model = LinearRegression()\n",
        "model.fit(X, Y_actual)\n",
        "\n",
        "predicted_values = model.predict(X)\n",
        "\n",
        "mae = mean_absolute_error(Y_actual, Y_pred)\n",
        "mse = mean_squared_error(Y_actual, Y_pred)\n",
        "rmse = mse ** 0.5\n",
        "\n",
        "print(\"Regression Metrics:\")\n",
        "print(f\"Mean Absolute Error (MAE): {mae}\")\n",
        "print(f\"Mean Squared Error (MSE): {mse}\")\n",
        "print(f\"Root Mean Squared Error (RMSE): {rmse}\")\n"
      ],
      "metadata": {
        "colab": {
          "base_uri": "https://localhost:8080/"
        },
        "id": "-uZ3U7C2gKzE",
        "outputId": "6986759d-0019-471d-daef-e2a828512f93"
      },
      "execution_count": 13,
      "outputs": [
        {
          "output_type": "stream",
          "name": "stdout",
          "text": [
            "Regression Metrics:\n",
            "Mean Absolute Error (MAE): 0.4600000000000016\n",
            "Mean Squared Error (MSE): 0.24600000000000147\n",
            "Root Mean Squared Error (RMSE): 0.49598387070549127\n"
          ]
        }
      ]
    },
    {
      "cell_type": "markdown",
      "source": [
        "## 2. Write python code from scratch to find evaluation metrics of deep learning model. Actual values and deep learning model predicted values are shown in Table 2. Also compare the results with outcome of libraries"
      ],
      "metadata": {
        "id": "jT1_V-YzoXdK"
      }
    },
    {
      "cell_type": "code",
      "source": [
        "import numpy as np\n",
        "from sklearn.metrics import accuracy_score, precision_score, recall_score, f1_score, classification_report, confusion_matrix"
      ],
      "metadata": {
        "id": "ZTC22HSDqUmt"
      },
      "execution_count": 26,
      "outputs": []
    },
    {
      "cell_type": "code",
      "source": [
        "\n",
        "Y_actual = np.array([0, 0, 1, 1, 2, 0, 0, 0, 1, 0, 2, 0, 0, 1, 1, 2, 2, 1, 0, 2, 1, 0, 2, 2, 0, 2, 1, 2, 2, 2])\n",
        "Y_pred = np.array([0, 0, 1, 0, 2, 0, 0, 1, 1, 2, 2, 1, 0, 2, 1, 0, 2, 2, 0, 2, 1, 2, 2, 2, 0, 2, 1, 2, 2, 2])\n",
        "\n",
        "accuracy = accuracy_score(Y_actual, Y_pred)\n",
        "print(f\"Accuracy: {accuracy:.2f}\")\n",
        "\n",
        "precision = precision_score(Y_actual, Y_pred, average=None)\n",
        "for i in range(len(precision)):\n",
        "    print(f\"Class {i} - Precision: {precision[i]:.2f}\")\n",
        "\n",
        "recall = recall_score(Y_actual, Y_pred, average=None)\n",
        "for i in range(len(recall)):\n",
        "    print(f\"Class {i} - Recall: {recall[i]:.2f}\")\n",
        "\n",
        "f1 = f1_score(Y_actual, Y_pred, average=None)\n",
        "for i in range(len(f1)):\n",
        "    print(f\"Class {i} - F1-Score: {f1[i]:.2f}\")\n",
        "\n",
        "conf_matrix = confusion_matrix(Y_actual, Y_pred)\n",
        "print(\"\\nConfusion Matrix:\")\n",
        "print(conf_matrix)\n",
        "\n",
        "print(\"\\nDetailed Classification Report:\")\n",
        "print(classification_report(Y_actual, Y_pred))\n"
      ],
      "metadata": {
        "colab": {
          "base_uri": "https://localhost:8080/"
        },
        "id": "T3e37Fljq2SL",
        "outputId": "2aebb930-185e-4d28-844c-46252b2e661a"
      },
      "execution_count": 28,
      "outputs": [
        {
          "output_type": "stream",
          "name": "stdout",
          "text": [
            "Accuracy: 0.73\n",
            "Class 0 - Precision: 0.78\n",
            "Class 1 - Precision: 0.71\n",
            "Class 2 - Precision: 0.71\n",
            "Class 0 - Recall: 0.64\n",
            "Class 1 - Recall: 0.62\n",
            "Class 2 - Recall: 0.91\n",
            "Class 0 - F1-Score: 0.70\n",
            "Class 1 - F1-Score: 0.67\n",
            "Class 2 - F1-Score: 0.80\n",
            "\n",
            "Confusion Matrix:\n",
            "[[ 7  2  2]\n",
            " [ 1  5  2]\n",
            " [ 1  0 10]]\n",
            "\n",
            "Detailed Classification Report:\n",
            "              precision    recall  f1-score   support\n",
            "\n",
            "           0       0.78      0.64      0.70        11\n",
            "           1       0.71      0.62      0.67         8\n",
            "           2       0.71      0.91      0.80        11\n",
            "\n",
            "    accuracy                           0.73        30\n",
            "   macro avg       0.74      0.72      0.72        30\n",
            "weighted avg       0.74      0.73      0.73        30\n",
            "\n"
          ]
        }
      ]
    }
  ]
}